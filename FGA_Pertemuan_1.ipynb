{
  "nbformat": 4,
  "nbformat_minor": 0,
  "metadata": {
    "colab": {
      "name": "FGA Pertemuan 1.ipynb",
      "provenance": [],
      "collapsed_sections": []
    },
    "kernelspec": {
      "name": "python3",
      "display_name": "Python 3"
    }
  },
  "cells": [
    {
      "cell_type": "code",
      "metadata": {
        "id": "iacs5lyt4GhX",
        "colab": {
          "base_uri": "https://localhost:8080/",
          "height": 35
        },
        "outputId": "497a7a1c-fa1b-409f-87fb-58246f527300"
      },
      "source": [
        "x = 2\n",
        "y = 2\n",
        "print(x % y)  #Tanda modulus ( pangkat )"
      ],
      "execution_count": null,
      "outputs": [
        {
          "output_type": "stream",
          "text": [
            "0\n"
          ],
          "name": "stdout"
        }
      ]
    },
    {
      "cell_type": "code",
      "metadata": {
        "id": "l98LhF9iAUVg",
        "colab": {
          "base_uri": "https://localhost:8080/",
          "height": 35
        },
        "outputId": "5160263c-ba2a-4623-aa1c-7d60f087bea7"
      },
      "source": [
        "x = 2/2\n",
        "y = 2\n",
        "x % y  #Tanda modulus ( pangkat ) karna 2:2 = 1, dan satu modulus 2 = 1, berapapun bilangan dibagi 1 = 1"
      ],
      "execution_count": null,
      "outputs": [
        {
          "output_type": "execute_result",
          "data": {
            "text/plain": [
              "1.0"
            ]
          },
          "metadata": {
            "tags": []
          },
          "execution_count": 20
        }
      ]
    },
    {
      "cell_type": "code",
      "metadata": {
        "id": "7wK6Es70Enjj",
        "colab": {
          "base_uri": "https://localhost:8080/",
          "height": 35
        },
        "outputId": "c4a431e2-c6ae-45f6-ccd2-d6a917ab80b4"
      },
      "source": [
        "x = 2\n",
        "y = 2/2\n",
        "print(x + y)"
      ],
      "execution_count": null,
      "outputs": [
        {
          "output_type": "stream",
          "text": [
            "3.0\n"
          ],
          "name": "stdout"
        }
      ]
    },
    {
      "cell_type": "code",
      "metadata": {
        "id": "rBIEDA6cBQSR",
        "colab": {
          "base_uri": "https://localhost:8080/",
          "height": 35
        },
        "outputId": "1b9fd519-1f79-4b5c-b83b-11c36c4c7785"
      },
      "source": [
        "import math\n",
        "math.sqrt(200) #mengitung bilangan akar"
      ],
      "execution_count": null,
      "outputs": [
        {
          "output_type": "execute_result",
          "data": {
            "text/plain": [
              "14.142135623730951"
            ]
          },
          "metadata": {
            "tags": []
          },
          "execution_count": 25
        }
      ]
    },
    {
      "cell_type": "code",
      "metadata": {
        "id": "R4io86t9CNmw",
        "colab": {
          "base_uri": "https://localhost:8080/",
          "height": 35
        },
        "outputId": "006c11df-783c-42a3-ffd7-fc50ab76e1da"
      },
      "source": [
        "x = 14\n",
        "y = 2\n",
        "x ** y"
      ],
      "execution_count": null,
      "outputs": [
        {
          "output_type": "execute_result",
          "data": {
            "text/plain": [
              "196"
            ]
          },
          "metadata": {
            "tags": []
          },
          "execution_count": 31
        }
      ]
    },
    {
      "cell_type": "code",
      "metadata": {
        "id": "sT5fEtNjGqRY",
        "colab": {
          "base_uri": "https://localhost:8080/",
          "height": 35
        },
        "outputId": "2e6ec788-f0be-4407-bd89-ddd826434147"
      },
      "source": [
        "import math\n",
        "math.sqrt(100)+math.sqrt(20) #mengitung bilangan akar\n",
        "\n",
        "#hasil 10+4 akar 5\n",
        "#10 + 2 akar 5\n",
        "#10 + 2 x 2,23\n",
        "#10 + 4,46"
      ],
      "execution_count": null,
      "outputs": [
        {
          "output_type": "execute_result",
          "data": {
            "text/plain": [
              "14.47213595499958"
            ]
          },
          "metadata": {
            "tags": []
          },
          "execution_count": 36
        }
      ]
    },
    {
      "cell_type": "code",
      "metadata": {
        "id": "75ITI2HMHDCr",
        "colab": {
          "base_uri": "https://localhost:8080/",
          "height": 35
        },
        "outputId": "096968be-ed7e-4335-ea16-46a47e734251"
      },
      "source": [
        "a = 2\n",
        "b = 2\n",
        "c = 3\n",
        "d = 2\n",
        "\n",
        "a+b%c/d"
      ],
      "execution_count": null,
      "outputs": [
        {
          "output_type": "execute_result",
          "data": {
            "text/plain": [
              "3.0"
            ]
          },
          "metadata": {
            "tags": []
          },
          "execution_count": 42
        }
      ]
    },
    {
      "cell_type": "code",
      "metadata": {
        "id": "jDuuLSXxHP5f",
        "colab": {
          "base_uri": "https://localhost:8080/",
          "height": 35
        },
        "outputId": "e9951401-0a79-4ebb-bebf-b5c4ac8846ad"
      },
      "source": [
        "import math\n",
        "math.sqrt(2)+math.sqrt(2)/math.sqrt(2) #mengitung bilangan akar\n",
        "#akar 2 + 1\n",
        "#1,4 + 1\n",
        "#2,4"
      ],
      "execution_count": null,
      "outputs": [
        {
          "output_type": "execute_result",
          "data": {
            "text/plain": [
              "2.414213562373095"
            ]
          },
          "metadata": {
            "tags": []
          },
          "execution_count": 37
        }
      ]
    },
    {
      "cell_type": "code",
      "metadata": {
        "id": "wp-NyJsYIFHJ",
        "colab": {
          "base_uri": "https://localhost:8080/",
          "height": 35
        },
        "outputId": "7f3a02cc-78d5-470c-e6a3-bd3a6b01be70"
      },
      "source": [
        "x = 10\n",
        "y = 2\n",
        "z = 2.23\n",
        "print (x + y * z)"
      ],
      "execution_count": null,
      "outputs": [
        {
          "output_type": "stream",
          "text": [
            "14.46\n"
          ],
          "name": "stdout"
        }
      ]
    },
    {
      "cell_type": "code",
      "metadata": {
        "id": "zMbaYIOSLbOq",
        "colab": {
          "base_uri": "https://localhost:8080/",
          "height": 35
        },
        "outputId": "ef6b3244-2d41-4f5e-fdcd-1a37d6a6d9d3"
      },
      "source": [
        "x = 2\n",
        "y = 2\n",
        "x + y"
      ],
      "execution_count": null,
      "outputs": [
        {
          "output_type": "execute_result",
          "data": {
            "text/plain": [
              "4"
            ]
          },
          "metadata": {
            "tags": []
          },
          "execution_count": 43
        }
      ]
    },
    {
      "cell_type": "code",
      "metadata": {
        "id": "HF-GQRlHOrUC",
        "colab": {
          "base_uri": "https://localhost:8080/",
          "height": 35
        },
        "outputId": "1b6a09ea-add0-47df-fe8b-ae27b3217a69"
      },
      "source": [
        "x = 2\n",
        "y = 3\n",
        "x / y\n",
        "#mengapa hasil float -> jika pembagian hasilnya koma,\n",
        "#"
      ],
      "execution_count": null,
      "outputs": [
        {
          "output_type": "execute_result",
          "data": {
            "text/plain": [
              "0.6666666666666666"
            ]
          },
          "metadata": {
            "tags": []
          },
          "execution_count": 44
        }
      ]
    },
    {
      "cell_type": "code",
      "metadata": {
        "id": "x9K_zjr0Owpy",
        "colab": {
          "base_uri": "https://localhost:8080/",
          "height": 35
        },
        "outputId": "95b61b09-229d-4d97-f313-09b13b349f0a"
      },
      "source": [
        "x = 2\n",
        "y = 2\n",
        "x / y"
      ],
      "execution_count": null,
      "outputs": [
        {
          "output_type": "execute_result",
          "data": {
            "text/plain": [
              "1.0"
            ]
          },
          "metadata": {
            "tags": []
          },
          "execution_count": 45
        }
      ]
    },
    {
      "cell_type": "code",
      "metadata": {
        "id": "qo0s8qWiZaUD",
        "colab": {
          "base_uri": "https://localhost:8080/",
          "height": 181
        },
        "outputId": "08379cf2-3f3c-4963-e7f8-64f665b4532d"
      },
      "source": [
        "# Python program to illustrate \n",
        "# Various examples and working of float() \n",
        "# for integers \n",
        "print(float(21.89)) \n",
        "  \n",
        "# for floating point numbers \n",
        "print(float(8)) \n",
        "  \n",
        "# for integer type strings \n",
        "print(float(\"23\")) \n",
        "  \n",
        "# for floating type strings \n",
        "print(float(\"-16.54\")) \n",
        "  \n",
        "# for string floats with whitespaces \n",
        "print(float(\"     -24.45   \\n\")) \n",
        "  \n",
        "# for inf/infinity \n",
        "print(float(\"InF\")) \n",
        "print(float(\"InFiNiTy\")) \n",
        "  \n",
        "# for NaN \n",
        "print(float(\"nan\")) \n",
        "print(float(\"NaN\")) \n",
        "  "
      ],
      "execution_count": null,
      "outputs": [
        {
          "output_type": "stream",
          "text": [
            "21.89\n",
            "8.0\n",
            "23.0\n",
            "-16.54\n",
            "-24.45\n",
            "inf\n",
            "inf\n",
            "nan\n",
            "nan\n"
          ],
          "name": "stdout"
        }
      ]
    },
    {
      "cell_type": "code",
      "metadata": {
        "id": "ImXewT4tclQi",
        "colab": {
          "base_uri": "https://localhost:8080/",
          "height": 145
        },
        "outputId": "35f468bc-a422-4715-a5aa-597f7bdc4782"
      },
      "source": [
        "#tipe data integer\n",
        "x = 10\n",
        "# tipe data float\n",
        "y = 5\n",
        " \n",
        "print (\"Hasil Penjumlahan :\",x + y)\n",
        "print (\"Hasil Penurangan :\", x - y)\n",
        "print (\"Hasil perkalian :\", x * y)\n",
        "print (\"Hasil Pembagian :\", x / y)\n",
        "print (\"Hasil Perpangkatan :\", x ** y)\n",
        "print (\"Hasil Akar X :\", math.sqrt(x))\n",
        "print (\"Hasil Akar Y :\", math.sqrt(y))\n"
      ],
      "execution_count": null,
      "outputs": [
        {
          "output_type": "stream",
          "text": [
            "Hasil Penjumlahan : 15\n",
            "Hasil Penurangan : 5\n",
            "Hasil perkalian : 50\n",
            "Hasil Pembagian : 2.0\n",
            "Hasil Perpangkatan : 100000\n",
            "Hasil Akar X : 3.1622776601683795\n",
            "Hasil Akar Y : 2.23606797749979\n"
          ],
          "name": "stdout"
        }
      ]
    }
  ]
}